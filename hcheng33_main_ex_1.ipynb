{
  "nbformat": 4,
  "nbformat_minor": 0,
  "metadata": {
    "colab": {
      "provenance": [],
      "authorship_tag": "ABX9TyPbo34bEfSlB99/Ur3M5qR8",
      "include_colab_link": true
    },
    "kernelspec": {
      "name": "python3",
      "display_name": "Python 3"
    },
    "language_info": {
      "name": "python"
    }
  },
  "cells": [
    {
      "cell_type": "markdown",
      "metadata": {
        "id": "view-in-github",
        "colab_type": "text"
      },
      "source": [
        "<a href=\"https://colab.research.google.com/github/hcheng33/Neural_Signals_and_Computation_hcheng33_GitHUB/blob/main/hcheng33_main_ex_1.ipynb\" target=\"_parent\"><img src=\"https://colab.research.google.com/assets/colab-badge.svg\" alt=\"Open In Colab\"/></a>"
      ]
    },
    {
      "cell_type": "code",
      "execution_count": null,
      "metadata": {
        "id": "BdkBihJhKi2w"
      },
      "outputs": [],
      "source": [
        "import numpy as np\n",
        "import pandas as pd\n",
        "from skimage import io\n",
        "from matplotlib import pyplot as plt\n",
        "import scipy\n",
        "import cv2\n",
        "from PIL import Image\n",
        "\n",
        "from sklearn.decomposition import PCA, NMF, FastICA\n",
        "\n",
        "import plotly.express as px\n",
        "import hcheng33_problem_1_ex_1\n",
        "import hcheng33_problem_2_ex_1\n",
        "import hcheng33_problem_3_ex_1\n",
        "import hcheng33_problem_4_ex_1\n",
        "import hcheng33_problem_5_ex_1"
      ]
    },
    {
      "cell_type": "code",
      "source": [
        "# load data\n",
        "im_raw = io.imread(\"TEST_MOVIE_00001-small-motion.tif\")"
      ],
      "metadata": {
        "id": "NdY7iRhzK0mv"
      },
      "execution_count": null,
      "outputs": []
    },
    {
      "cell_type": "code",
      "source": [
        "# Problem 1 Part A\n",
        "hcheng33_problem_1_ex_1.part_1a(im_raw)"
      ],
      "metadata": {
        "id": "bJQsJHchLALJ"
      },
      "execution_count": null,
      "outputs": []
    },
    {
      "cell_type": "code",
      "source": [
        "# Problem 1 Part B\n",
        "hcheng33_problem_1_ex_1.part_1b(im_raw)\n",
        "#The peak correlation is shifted by -5 pixels on the x-axis and -6 pixels on the y-axis"
      ],
      "metadata": {
        "id": "erzaRPH6LHfA"
      },
      "execution_count": null,
      "outputs": []
    },
    {
      "cell_type": "code",
      "source": [
        "# Problem 2 Part A\n",
        "hcheng33_problem_2_ex_1.part_2a(im_raw)\n",
        "\n",
        "# The mean and median are blurry likely due to the noisy background activity, the variance is clearer in showing several visible cells"
      ],
      "metadata": {
        "id": "lWKzKVBDLMSa"
      },
      "execution_count": null,
      "outputs": []
    },
    {
      "cell_type": "code",
      "source": [
        "# Problem 2 Part B\n",
        "hcheng33_problem_2_ex_1.part_2b(im_raw)\n",
        "\n",
        "# I think a good statistic would clearly segment the cells from background noise.\n",
        "# I also tried the max and 80th-percentile for the image. The max showed satisfactory results becasue it locates where the activity is most acitve,\n",
        "# 80-th percentile was slighly more clear than mean because the noise were a little more supressed\n"
      ],
      "metadata": {
        "id": "1gI7NKmLLQcX"
      },
      "execution_count": null,
      "outputs": []
    },
    {
      "cell_type": "code",
      "source": [
        "# Problem 3 Part A\n",
        "hcheng33_problem_3_ex_1.part_3a(im_raw)"
      ],
      "metadata": {
        "id": "dQNkwf3fLZvt"
      },
      "execution_count": null,
      "outputs": []
    },
    {
      "cell_type": "code",
      "source": [
        "# Problem 3 Part B\n",
        "\n",
        "# The most intuitive way is to compare it to human eye judgement as the ground truth\n",
        "# We can also compare the ROI identified to more sophisitcated segmentation algorithms"
      ],
      "metadata": {
        "id": "4DikPti1Ld1N"
      },
      "execution_count": null,
      "outputs": []
    },
    {
      "cell_type": "code",
      "source": [
        "# Problem 4 Part A\n",
        "hcheng33_problem_4_ex_1.part_4a(im_raw)\n",
        "\n",
        "# I used the connectedComponents function from opencv to identify the ROIs.\n",
        "# selecting the five ROIs with the largest area, using their pixel index,\n",
        "# I looked across the average intensity of the time samples within the same ROI pixels"
      ],
      "metadata": {
        "id": "7Bk9rUtnLgn6"
      },
      "execution_count": null,
      "outputs": []
    },
    {
      "cell_type": "code",
      "source": [
        "# Problem 4 Part B\n",
        "# I think it is a little hard to tell for a specific ROI under such a noisy background,\n",
        "# a better way might be to segment out only the ROI to see it play through time and compare this\n",
        "# visual info with the intensity trace\n"
      ],
      "metadata": {
        "id": "ISYGRL9hLm6R"
      },
      "execution_count": null,
      "outputs": []
    },
    {
      "cell_type": "code",
      "source": [
        "# Problem 5 Part A\n",
        "hcheng33_problem_5_ex_1.part_5a(im_raw)\n",
        "\n",
        "# The variance is explained more by the first four principal components,\n",
        "# with the subsequent components providing imcremental increase in the explanation of variance"
      ],
      "metadata": {
        "id": "uazR0QnzLqyx"
      },
      "execution_count": null,
      "outputs": []
    },
    {
      "cell_type": "code",
      "source": [
        "# Problem 5 Part B\n",
        "hcheng33_problem_5_ex_1.part_5b(im_raw)\n",
        "\n",
        "# There seems to be an \"optimal\" number of components that provides the best error results\n",
        "# aside from that it reverts back to the trend of decreasing error with increased components"
      ],
      "metadata": {
        "id": "1MuhxYD4Lu2E"
      },
      "execution_count": null,
      "outputs": []
    },
    {
      "cell_type": "code",
      "source": [
        "# Problem 5 Part C\n",
        "hcheng33_problem_5_ex_1.part_5c(im_raw)\n",
        "\n",
        "# The error trend compared with NMF seems to be a steady decrease as number of components increase\n",
        "# the components plot seems to show for it to be picking up more background noise"
      ],
      "metadata": {
        "id": "6bOA72wNLz-W"
      },
      "execution_count": null,
      "outputs": []
    }
  ]
}